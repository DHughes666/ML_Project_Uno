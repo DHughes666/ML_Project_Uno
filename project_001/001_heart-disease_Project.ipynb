{
 "cells": [
  {
   "cell_type": "markdown",
   "id": "3dc9d4e8-f5ed-432a-8b11-1d5ef74607b2",
   "metadata": {},
   "source": [
    "# 001-HEART DISEASE PROJECT"
   ]
  },
  {
   "cell_type": "markdown",
   "id": "f677b03b-28f7-47a8-acd9-5ba5367f8352",
   "metadata": {},
   "source": [
    "### Predicting heart disease using machine learning\n",
    "\n",
    "This notebook looks into using various Python-based machine learning and data science libraries\n",
    "in an attempt to build a machine-learning model capable of predicting whether or not a person\n",
    "has heart disease based on their medical attributes"
   ]
  },
  {
   "cell_type": "markdown",
   "id": "106d46b0-6de7-485c-aa68-8347df970086",
   "metadata": {},
   "source": [
    "### Steps:\n",
    "1. Problem definition\n",
    "2. Data\n",
    "3. Evaluation\n",
    "4. Features\n",
    "5. Modelling\n",
    "6. Experimentation"
   ]
  },
  {
   "cell_type": "markdown",
   "id": "2d61a140-1727-4bf3-b658-8386182bd6cb",
   "metadata": {},
   "source": [
    "#### 1 - Problem definition"
   ]
  },
  {
   "cell_type": "markdown",
   "id": "d8825dc4-6529-4e36-bf13-d39bc9c127f8",
   "metadata": {},
   "source": [
    "In a statement, \n",
    "> Given clinical parameters about a patient, can we predict whether or not they have heart disease"
   ]
  },
  {
   "cell_type": "markdown",
   "id": "a0bffefd-a4c2-403a-9af2-189a44012fa8",
   "metadata": {},
   "source": [
    "#### 2 - Data"
   ]
  },
  {
   "cell_type": "markdown",
   "id": "ae81c627-9364-4181-9406-2611d9e4c83c",
   "metadata": {},
   "source": [
    "The original data came from the Cleveland data from the UCI Machine Learning Repository.\n",
    "https://archive.ics.uci.edu/ml/datasets/heart+Disease"
   ]
  },
  {
   "cell_type": "markdown",
   "id": "100d99d4-12a0-4a28-aa6e-a419e13977eb",
   "metadata": {},
   "source": [
    "#### 3 - Evaluation"
   ]
  },
  {
   "cell_type": "markdown",
   "id": "a5862642-d279-4df2-a003-bf14bde5c475",
   "metadata": {},
   "source": [
    "> If we can reach 95% accuracy at predicting whether or not a patient has heart disease during the proof of concept, we'll \n",
    "pursure the project."
   ]
  },
  {
   "cell_type": "markdown",
   "id": "99c2e270-5c35-40ac-8626-669b35b3e0b8",
   "metadata": {},
   "source": [
    "#### 4 - Features"
   ]
  },
  {
   "cell_type": "markdown",
   "id": "78710896-e5dd-4391-9d0c-e69068becb86",
   "metadata": {},
   "source": [
    "This is where you'll get different information about each of the features in your data"
   ]
  },
  {
   "cell_type": "markdown",
   "id": "d0956c79-cdde-4244-8c4b-54b7595939fc",
   "metadata": {},
   "source": [
    "**Create data dictionary**\n",
    "\n",
    "* id (Unique id for each patient)\n",
    "* age (Age of the patient in years)\n",
    "* origin (place of study)\n",
    "* sex (Male/Female)\n",
    "* cp chest pain type ([typical angina, atypical angina, non-anginal, asymptomatic])\n",
    "* trestbps resting blood pressure (resting blood pressure (in mm Hg on admission to the hospital))\n",
    "* chol (serum cholesterol in mg/dl)\n",
    "* fbs (if fasting blood sugar > 120 mg/dl)\n",
    "* restecg (resting electrocardiographic results)\n",
    "* -- Values: [normal, stt abnormality, lv hypertrophy]\n",
    "* thalach: maximum heart rate achieved\n",
    "* exang: exercise-induced angina (True/ False)\n",
    "* oldpeak: ST depression induced by exercise relative to rest\n",
    "* slope: the slope of the peak exercise ST segment\n",
    "* ca: number of major vessels (0-3) colored by fluoroscopy\n",
    "* thal: [normal; fixed defect; reversible defect]\n",
    "* num: the predicted attribute"
   ]
  },
  {
   "cell_type": "markdown",
   "id": "be9d7316-ddee-47a5-ac5a-b7229e9a9beb",
   "metadata": {},
   "source": [
    "##### Preparing the tools"
   ]
  },
  {
   "cell_type": "markdown",
   "id": "512e3a44-5091-45e2-9854-8277200f6804",
   "metadata": {},
   "source": [
    "We're going to use pandas, Matplotlib and Numpy for data analysis and manipulation"
   ]
  },
  {
   "cell_type": "code",
   "execution_count": 5,
   "id": "3c9c0822-04f8-41dc-81c9-43b1e701e586",
   "metadata": {},
   "outputs": [],
   "source": [
    "# Import all the tools we need\n",
    "\n",
    "# Regular EDA (exploratory data analysis) and plotting libraries\n",
    "import numpy as np\n",
    "import pandas as pd\n",
    "import matplotlib.pyplot as plt\n",
    "import seaborn as sns\n",
    "\n",
    "# Models from Scikit-Learn\n",
    "from sklearn.linear_model import LogisticRegression\n",
    "from sklearn.neighbors import KNeighborsClassifier\n",
    "from sklearn.ensemble import RandomForestClassifier\n",
    "\n",
    "# Model Evaluations\n",
    "from sklearn.model_selection import train_test_split, cross_val_score\n",
    "from sklearn.model_selection import RandomizedSearchCV, GridSearchCV\n",
    "from sklearn.metrics import confusion_matrix, classification_report\n",
    "from sklearn.metrics import precision_score, recall_score, f1_score\n",
    "from sklearn.metrics import roc_auc_score"
   ]
  },
  {
   "cell_type": "code",
   "execution_count": null,
   "id": "c4b801ee-4e56-49c5-b238-9c447c6bbebc",
   "metadata": {},
   "outputs": [],
   "source": []
  }
 ],
 "metadata": {
  "kernelspec": {
   "display_name": "Python 3 (ipykernel)",
   "language": "python",
   "name": "python3"
  },
  "language_info": {
   "codemirror_mode": {
    "name": "ipython",
    "version": 3
   },
   "file_extension": ".py",
   "mimetype": "text/x-python",
   "name": "python",
   "nbconvert_exporter": "python",
   "pygments_lexer": "ipython3",
   "version": "3.11.3"
  }
 },
 "nbformat": 4,
 "nbformat_minor": 5
}
